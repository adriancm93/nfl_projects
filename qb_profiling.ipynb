{
 "cells": [
  {
   "cell_type": "code",
   "execution_count": 1,
   "metadata": {},
   "outputs": [],
   "source": [
    "import pandas as pd\n",
    "import matplotlib.pyplot as plt\n",
    "import sqlite3\n",
    "pd.set_option('display.max_rows', 100)\n",
    "pd.set_option('display.max_columns', 300)\n",
    "pd.set_option('display.max_colwidth', None)"
   ]
  },
  {
   "cell_type": "code",
   "execution_count": 2,
   "metadata": {
    "scrolled": false
   },
   "outputs": [],
   "source": [
    "DATABASE = 'nflfastR.db'\n",
    "\n",
    "def get_db():\n",
    "    db = sqlite3.connect(DATABASE)\n",
    "    return db\n",
    "\n",
    "def query_db(query, params=()):\n",
    "    db = get_db()\n",
    "    return pd.read_sql_query(query, db, params=params)\n",
    "\n",
    "def get_qb_plays(qb, year):\n",
    "    if qb==\"Average\":\n",
    "        return query_db(\"SELECT * FROM plays WHERE season=?\", params=(year,))\n",
    "    return query_db(\"SELECT * FROM plays WHERE season=? AND (passer=? OR rusher=?)\", params=(year, qb, qb))\n",
    "\n",
    "def qb_profile(qb, year):\n",
    "    qb_plays = get_qb_plays(qb, year)\n",
    "    num_plays = len(qb_plays)\n",
    "    int_score = qb_plays.loc[qb_plays.interception==1].epa.sum()/num_plays\n",
    "    sack_score = qb_plays.loc[qb_plays.sack==1].epa.sum()/num_plays\n",
    "    screen_score = qb_plays.loc[(qb_plays.air_yards <= 0)].epa.sum()/num_plays\n",
    "    short_score = qb_plays.loc[(qb_plays.air_yards > 0) & (qb_plays.air_yards <= 10)].epa.sum()/num_plays\n",
    "    intermediate_score = qb_plays.loc[(qb_plays.air_yards > 10) & (qb_plays.air_yards <= 20)].epa.sum()/num_plays\n",
    "    deep_score = qb_plays.loc[(qb_plays.air_yards > 20)].epa.sum()/num_plays\n",
    "    run_score = qb_plays.loc[(qb_plays.qb_scramble==1) | (qb_plays.rush==1)].epa.sum()/num_plays\n",
    "    return {\n",
    "            \"Interceptions\":int_score, \n",
    "            \"Sacks\":sack_score,\n",
    "            \"Screen passes\":screen_score,\n",
    "            \"Short passes\":short_score,\n",
    "            \"Intermediate passes\":intermediate_score,\n",
    "            \"Deep passes\":deep_score,\n",
    "            \"Rushes\":run_score,\n",
    "           }\n",
    "\n",
    "def qb_string(qb, year):\n",
    "    return f\"'{(year%100):02d} {qb}\"\n",
    "\n",
    "def compare_qbs(qb1, year1, qb2, year2):\n",
    "    return  {\n",
    "                qb_string(qb1,year1):qb_profile(qb1,year1),\n",
    "                qb_string(qb2,year2):qb_profile(qb2,year2)\n",
    "            }\n",
    "\n",
    "def plot_qb_comparison(scores):\n",
    "    fig = pd.DataFrame(scores).plot(kind='bar').get_figure()\n",
    "    plt.ylabel('EPA/total # plays')"
   ]
  },
  {
   "cell_type": "code",
   "execution_count": 3,
   "metadata": {
    "scrolled": true
   },
   "outputs": [
    {
     "data": {
      "text/plain": [
       "{\"'15 C.Newton\": {'Interceptions': -0.06448663243062588,\n",
       "  'Sacks': -0.08793572487593236,\n",
       "  'Screen passes': 0.0016104306765267061,\n",
       "  'Short passes': 0.06679371874977488,\n",
       "  'Intermediate passes': 0.06911355519005158,\n",
       "  'Deep passes': 0.06352648742202617,\n",
       "  'Rushes': 0.047566821809047574},\n",
       " \"'15 C.Palmer\": {'Interceptions': -0.06984341702648506,\n",
       "  'Sacks': -0.09176416319520625,\n",
       "  'Screen passes': 0.0375619445158004,\n",
       "  'Short passes': 0.1075364557056533,\n",
       "  'Intermediate passes': 0.19136055325865559,\n",
       "  'Deep passes': 0.03407576150967059,\n",
       "  'Rushes': 0.007006999849441594}}"
      ]
     },
     "execution_count": 3,
     "metadata": {},
     "output_type": "execute_result"
    }
   ],
   "source": [
    "compare_qbs(\"C.Newton\",2015,\"C.Palmer\",2015)"
   ]
  },
  {
   "cell_type": "code",
   "execution_count": 4,
   "metadata": {},
   "outputs": [],
   "source": [
    "mvps = compare_qbs(\"T.Brady\",2007,\"P.Manning\",2013)"
   ]
  },
  {
   "cell_type": "code",
   "execution_count": 5,
   "metadata": {
    "scrolled": true
   },
   "outputs": [
    {
     "data": {
      "image/png": "[encoded data removed]",
      "text/plain": [
       "<Figure size 432x288 with 1 Axes>"
      ]
     },
     "metadata": {
      "needs_background": "light"
     },
     "output_type": "display_data"
    }
   ],
   "source": [
    "plot_qb_comparison(mvps)"
   ]
  }
 ],
 "metadata": {
  "kernelspec": {
   "display_name": "Python 3",
   "language": "python",
   "name": "python3"
  },
  "language_info": {
   "codemirror_mode": {
    "name": "ipython",
    "version": 3
   },
   "file_extension": ".py",
   "mimetype": "text/x-python",
   "name": "python",
   "nbconvert_exporter": "python",
   "pygments_lexer": "ipython3",
   "version": "3.7.6"
  }
 },
 "nbformat": 4,
 "nbformat_minor": 2
}
