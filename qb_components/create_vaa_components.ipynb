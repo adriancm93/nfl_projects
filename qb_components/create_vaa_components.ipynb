{
 "cells": [
  {
   "cell_type": "code",
   "execution_count": 1,
   "metadata": {},
   "outputs": [],
   "source": [
    "import numpy as np\n",
    "import pandas as pd\n",
    "import matplotlib.pyplot as plt\n",
    "import seaborn as sns\n",
    "\n",
    "pd.set_option('display.max_colwidth', None)"
   ]
  },
  {
   "cell_type": "code",
   "execution_count": 2,
   "metadata": {},
   "outputs": [],
   "source": [
    "pbp = pd.concat([pd.read_csv(f'pbp_data/play_by_play_{season}.csv.gz', low_memory=False) for season in range(2006,2022)])"
   ]
  },
  {
   "cell_type": "code",
   "execution_count": 3,
   "metadata": {},
   "outputs": [],
   "source": [
    "pbp = pbp.loc[(pbp['pass']==1)].copy()"
   ]
  },
  {
   "cell_type": "code",
   "execution_count": 4,
   "metadata": {},
   "outputs": [],
   "source": [
    "# To include designed qb runs (which I decided not to )\n",
    "# rusher_pass_atts = pbp.groupby(['season','passer_id'], as_index=False)\\\n",
    "#     .agg({'pass_attempt':'sum'})\\\n",
    "#     .rename(columns={'passer_id':'rusher_id', 'pass_attempt':'rusher_passes'})\n",
    "# pbp = pbp.loc[(pbp.play_type.isin(['pass','run','no_play']))&(pbp.qb_spike!=1)&(pbp.qb_kneel!=1)].copy()\\\n",
    "#     .merge(rusher_pass_atts,on=['season','rusher_id'], how='left')\n",
    "# pbp = pbp.loc[(pbp['rusher_id'].isnull())|(pbp['rusher_passes']>10)]"
   ]
  },
  {
   "cell_type": "code",
   "execution_count": 5,
   "metadata": {},
   "outputs": [],
   "source": [
    "pbp['scramble_epa'] = np.where((pbp['qb_scramble']==1), pbp['qb_epa'], 0)\n",
    "pbp['sack_epa'] = np.where((pbp['sack']==1), pbp['qb_epa'], 0)\n",
    "pbp['incompletion_epa'] = np.where((pbp['incomplete_pass']==1), pbp['qb_epa'], 0)\n",
    "pbp['int_epa'] = np.where((pbp['interception']==1), pbp['qb_epa'], 0)\n",
    "pbp['completionx_epa'] = np.where(pbp['complete_pass']==1, pbp['air_epa'].fillna(0)+pbp['xyac_epa'].fillna(0), 0)\n",
    "pbp['completion_epa'] = np.where(pbp['complete_pass']==1, pbp['epa'], 0)\n",
    "pbp['yacoe_epa'] = np.where((pbp['complete_pass']==1) & (pbp['fumble_lost']!=1), pbp['yac_epa'].fillna(0)-pbp['xyac_epa'].fillna(0), 0)\n",
    "pbp['penalty_epa'] = np.where((pbp['scramble_epa']==0)&(pbp['sack_epa']==0)&(pbp['incompletion_epa']==0)&(pbp['int_epa']==0)&(pbp['completion_epa']==0)&(pbp['yacoe_epa']==0)&(pbp['penalty']==1), pbp['qb_epa'], 0)\n",
    "pbp['completed_air_epa'] = np.where(pbp['complete_pass']==1, pbp['air_epa'].fillna(0), 0)\n",
    "pbp['completed_xyac_epa'] = np.where(pbp['complete_pass']==1, pbp['xyac_epa'].fillna(0), 0) \n",
    "pbp['completed_yac_epa'] = np.where(pbp['complete_pass']==1, pbp['yac_epa'].fillna(0), 0)\n",
    "\n",
    "pbp['aggression'] = pbp['air_epa'] + pbp['xyac_epa'].fillna(0)\n",
    "\n",
    "components = ['scramble','sack','incompletion','int','completionx','completion','completed_air','completed_xyac','completed_yac','yacoe','penalty']\n",
    "\n",
    "passer_ids = pbp.groupby(['season','posteam','name'], as_index=False).agg({'passer_id':pd.Series.mode})\n",
    "\n",
    "games = pbp.groupby(['season','posteam','name','game_id'])\\\n",
    "    .agg({**{'week':'mean','qb_epa':'mean','play_id':'count','season_type':'first','aggression':'mean'}, **{f'{component}_epa':'sum' for component in components}})\\\n",
    "    .query('play_id>10').reset_index().merge(passer_ids, on=['season','posteam','name']).rename(columns={'qb_epa':'epa'})\n",
    "games['week'] = games['week'].astype(int)\n",
    "games['games_played'] = games.groupby(['passer_id']).game_id.transform('count')"
   ]
  },
  {
   "cell_type": "code",
   "execution_count": 6,
   "metadata": {},
   "outputs": [],
   "source": [
    "for component in components:\n",
    "    games[f'{component}_value'] = games[f'{component}_epa']/games['play_id']\n",
    "    games[f'{component}_vaa'] = games[f'{component}_value']-games.loc[games.games_played>=16][f'{component}_value'].mean()\n",
    "    games[f'weighted_{component}_value'] = games[f'{component}_value']*games['play_id']\n",
    "    games[f'weighted_{component}_vaa'] = games[f'{component}_vaa']*games['play_id']\n",
    "games['weighted_epa'] = games['epa']*games['play_id']"
   ]
  },
  {
   "cell_type": "code",
   "execution_count": 7,
   "metadata": {},
   "outputs": [],
   "source": [
    "games.to_csv('component_vaa_games_no_rushes.csv')"
   ]
  }
 ],
 "metadata": {
  "interpreter": {
   "hash": "b3ba2566441a7c06988d0923437866b63cedc61552a5af99d1f4fb67d367b25f"
  },
  "kernelspec": {
   "display_name": "Python 3.7.6 64-bit ('base': conda)",
   "language": "python",
   "name": "python3"
  },
  "language_info": {
   "codemirror_mode": {
    "name": "ipython",
    "version": 3
   },
   "file_extension": ".py",
   "mimetype": "text/x-python",
   "name": "python",
   "nbconvert_exporter": "python",
   "pygments_lexer": "ipython3",
   "version": "3.7.6"
  },
  "orig_nbformat": 4
 },
 "nbformat": 4,
 "nbformat_minor": 2
}
