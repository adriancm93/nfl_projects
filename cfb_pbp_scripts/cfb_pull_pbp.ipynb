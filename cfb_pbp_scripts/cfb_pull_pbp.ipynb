{
 "cells": [
  {
   "cell_type": "code",
   "execution_count": 1,
   "metadata": {},
   "outputs": [],
   "source": [
    "import pandas as pd\n",
    "import requests\n",
    "import time\n",
    "import os\n",
    "from IPython.display import clear_output"
   ]
  },
  {
   "cell_type": "code",
   "execution_count": 2,
   "metadata": {},
   "outputs": [
    {
     "name": "stdout",
     "output_type": "stream",
     "text": [
      "2020 week 1 done\n",
      "2020 week 2 done\n",
      "2020 week 3 done\n",
      "2020 week 4 done\n",
      "2020 week 5 done\n",
      "2020 week 6 done\n",
      "2020 week 7 done\n",
      "2020 week 8 done\n",
      "2020 week 9 done\n",
      "2020 week 10 done\n",
      "2020 week 11 done\n",
      "2020 week 12 done\n",
      "2020 week 13 done\n",
      "2020 week 14 done\n",
      "2020 week 15 done\n",
      "2020 week 16 done\n",
      "2020 week 17 done\n"
     ]
    }
   ],
   "source": [
    "pbp_dict = {year:{} for year in range(2004,2021)}\n",
    "for season in pbp_dict.keys():\n",
    "    resp_len = 1\n",
    "    week = 1\n",
    "    while resp_len>0:\n",
    "        url = f\"https://api.collegefootballdata.com/plays?seasonType=regular&year={season}&week={week}\"\n",
    "        response = requests.get(url)\n",
    "        j = response.json()\n",
    "        pbp_dict[season][week] = j\n",
    "        resp_len = len(j)\n",
    "        print(f'{season} week {week} done')\n",
    "        week+=1\n",
    "        time.sleep(5)\n",
    "    clear_output(wait=True)"
   ]
  },
  {
   "cell_type": "code",
   "execution_count": 3,
   "metadata": {},
   "outputs": [],
   "source": [
    "if not os.path.exists('cfb_pbp_raw'):\n",
    "    os.makedirs('cfb_pbp_raw')\n",
    "\n",
    "for season in pbp_dict.keys():\n",
    "    season_df = pd.DataFrame()\n",
    "    for week in pbp_dict[season].keys():\n",
    "        week_df = pd.DataFrame(pbp_dict[season][week])\n",
    "        week_df['week'] = week\n",
    "        season_df = pd.concat([season_df, week_df])\n",
    "    season_df.to_csv(f'cfb_pbp_raw/cfb_pbp_raw_{season}.csv')"
   ]
  }
 ],
 "metadata": {
  "kernelspec": {
   "display_name": "Python 3",
   "language": "python",
   "name": "python3"
  },
  "language_info": {
   "codemirror_mode": {
    "name": "ipython",
    "version": 3
   },
   "file_extension": ".py",
   "mimetype": "text/x-python",
   "name": "python",
   "nbconvert_exporter": "python",
   "pygments_lexer": "ipython3",
   "version": "3.7.6"
  }
 },
 "nbformat": 4,
 "nbformat_minor": 4
}
