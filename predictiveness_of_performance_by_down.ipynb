{
 "cells": [
  {
   "cell_type": "code",
   "execution_count": 1,
   "metadata": {},
   "outputs": [],
   "source": [
    "import pandas as pd"
   ]
  },
  {
   "cell_type": "code",
   "execution_count": 2,
   "metadata": {},
   "outputs": [],
   "source": [
    "pbp = pd.DataFrame()\n",
    "for year in range(1999, 2020):\n",
    "    i_df = pd.read_csv(f'pbp_data/play_by_play_{year}.csv.gz', compression='gzip', low_memory=False)\n",
    "    pbp = pd.concat([pbp, i_df])"
   ]
  },
  {
   "cell_type": "code",
   "execution_count": 3,
   "metadata": {},
   "outputs": [],
   "source": [
    "# columns: the data for which you want to find correlations and YoY stability\n",
    "# groupby: the (single) variable by which you'd like to group by\n",
    "# data: dataframe for which correlations/YoY stability are being found.\n",
    "#       must contain all columns specified in first arg, as well as specified \n",
    "#       groupby col and 'season' col \n",
    "def year_to_year_corr(columns, groupby, data):\n",
    "    cols = [groupby, 'season'] + columns \n",
    "    data = data[cols]\n",
    "    ldata = data.groupby(by=groupby).shift(-1)\n",
    "    data.columns = [groupby, 'prev_season'] + [f'prev_{col}' for col in columns]\n",
    "    new_data = pd.concat((data, ldata), axis=1).dropna(subset=['season']).drop(columns=['prev_season','season'])\n",
    "    tot_corr = new_data.corr(method='pearson')\n",
    "    num_corr_cols = len(columns)\n",
    "    corr = tot_corr.iloc[num_corr_cols:,num_corr_cols:]\n",
    "    pred = tot_corr.iloc[0:num_corr_cols, num_corr_cols:]\n",
    "    return corr,pred"
   ]
  },
  {
   "cell_type": "code",
   "execution_count": 16,
   "metadata": {},
   "outputs": [],
   "source": [
    "epa = pbp.loc[(pbp.down == 1) & (pbp.season_type=='REG') & (pbp.play==1)].groupby(['season', 'posteam']).agg({'epa':'mean', 'play_id':'count'}).rename(columns={'epa':'first_down_epa', 'play_id':'first_down_count'})\n",
    "second_down = pbp.loc[(pbp.down==2) & (pbp.season_type=='REG') & (pbp.play==1)].groupby(['season', 'posteam']).agg({'epa':'mean', 'play_id':'count'})\n",
    "epa['second_down_epa'] = second_down['epa']\n",
    "epa['second_down_count'] = second_down['play_id']\n",
    "third_down = pbp.loc[(pbp.down==3) & (pbp.season_type=='REG') & (pbp.play==1)].groupby(['season', 'posteam']).agg({'epa':'mean', 'play_id':'count'})\n",
    "epa['third_down_epa'] = third_down['epa']\n",
    "epa['third_down_count'] = third_down['play_id']\n",
    "fourth_down = pbp.loc[(pbp.down==4) & (pbp.season_type=='REG') & (pbp.play==1)].groupby(['season', 'posteam']).agg({'epa':'mean', 'play_id':'count'})\n",
    "epa['fourth_down_epa'] = fourth_down['epa']\n",
    "epa['fourth_down_count'] = fourth_down['play_id']\n",
    "epa['overall_epa'] = pbp.loc[(pbp.season_type=='REG') & (pbp.play==1)].groupby(['season', 'posteam']).agg({'epa':'mean'})\n",
    "epa['overall_count'] = pbp.loc[(pbp.season_type=='REG') & (pbp.play==1)].groupby(['season', 'posteam']).agg({'play_id':'count'})\n",
    "epa = epa.reset_index()"
   ]
  },
  {
   "cell_type": "code",
   "execution_count": 19,
   "metadata": {},
   "outputs": [
    {
     "name": "stdout",
     "output_type": "stream",
     "text": [
      "first down: 466.49775784753365\n",
      "second down: 354.0732436472347\n",
      "third down: 230.42600896860986\n",
      "fourth down: 21.315396113602393\n",
      "overall: 1075.3961136023916\n"
     ]
    }
   ],
   "source": [
    "print(f'first down: {epa.first_down_count.mean()}')\n",
    "print(f'second down: {epa.second_down_count.mean()}')\n",
    "print(f'third down: {epa.third_down_count.mean()}')\n",
    "print(f'fourth down: {epa.fourth_down_count.mean()}')\n",
    "print(f'overall: {epa.overall_count.mean()}')"
   ]
  },
  {
   "cell_type": "code",
   "execution_count": 18,
   "metadata": {},
   "outputs": [
    {
     "data": {
      "text/html": [
       "<div>\n",
       "<style scoped>\n",
       "    .dataframe tbody tr th:only-of-type {\n",
       "        vertical-align: middle;\n",
       "    }\n",
       "\n",
       "    .dataframe tbody tr th {\n",
       "        vertical-align: top;\n",
       "    }\n",
       "\n",
       "    .dataframe thead th {\n",
       "        text-align: right;\n",
       "    }\n",
       "</style>\n",
       "<table border=\"1\" class=\"dataframe\">\n",
       "  <thead>\n",
       "    <tr style=\"text-align: right;\">\n",
       "      <th></th>\n",
       "      <th>first_down_epa</th>\n",
       "      <th>second_down_epa</th>\n",
       "      <th>third_down_epa</th>\n",
       "      <th>fourth_down_epa</th>\n",
       "      <th>overall_epa</th>\n",
       "    </tr>\n",
       "  </thead>\n",
       "  <tbody>\n",
       "    <tr>\n",
       "      <th>prev_first_down_epa</th>\n",
       "      <td>0.117478</td>\n",
       "      <td>0.086439</td>\n",
       "      <td>0.095032</td>\n",
       "      <td>0.006967</td>\n",
       "      <td>0.147397</td>\n",
       "    </tr>\n",
       "    <tr>\n",
       "      <th>prev_second_down_epa</th>\n",
       "      <td>0.077844</td>\n",
       "      <td>0.097381</td>\n",
       "      <td>0.102041</td>\n",
       "      <td>0.003631</td>\n",
       "      <td>0.134442</td>\n",
       "    </tr>\n",
       "    <tr>\n",
       "      <th>prev_third_down_epa</th>\n",
       "      <td>0.096377</td>\n",
       "      <td>0.114267</td>\n",
       "      <td>0.130856</td>\n",
       "      <td>0.003073</td>\n",
       "      <td>0.165028</td>\n",
       "    </tr>\n",
       "    <tr>\n",
       "      <th>prev_fourth_down_epa</th>\n",
       "      <td>0.008187</td>\n",
       "      <td>0.009038</td>\n",
       "      <td>0.018936</td>\n",
       "      <td>0.002688</td>\n",
       "      <td>0.017541</td>\n",
       "    </tr>\n",
       "    <tr>\n",
       "      <th>prev_overall_epa</th>\n",
       "      <td>0.142512</td>\n",
       "      <td>0.147629</td>\n",
       "      <td>0.165304</td>\n",
       "      <td>0.006618</td>\n",
       "      <td>0.222142</td>\n",
       "    </tr>\n",
       "  </tbody>\n",
       "</table>\n",
       "</div>"
      ],
      "text/plain": [
       "                      first_down_epa  second_down_epa  third_down_epa  \\\n",
       "prev_first_down_epa         0.117478         0.086439        0.095032   \n",
       "prev_second_down_epa        0.077844         0.097381        0.102041   \n",
       "prev_third_down_epa         0.096377         0.114267        0.130856   \n",
       "prev_fourth_down_epa        0.008187         0.009038        0.018936   \n",
       "prev_overall_epa            0.142512         0.147629        0.165304   \n",
       "\n",
       "                      fourth_down_epa  overall_epa  \n",
       "prev_first_down_epa          0.006967     0.147397  \n",
       "prev_second_down_epa         0.003631     0.134442  \n",
       "prev_third_down_epa          0.003073     0.165028  \n",
       "prev_fourth_down_epa         0.002688     0.017541  \n",
       "prev_overall_epa             0.006618     0.222142  "
      ]
     },
     "execution_count": 18,
     "metadata": {},
     "output_type": "execute_result"
    }
   ],
   "source": [
    "corr, pred = year_to_year_corr(['first_down_epa', 'second_down_epa', 'third_down_epa', 'fourth_down_epa', 'overall_epa'], 'posteam', epa)\n",
    "pred**2"
   ]
  }
 ],
 "metadata": {
  "kernelspec": {
   "display_name": "Python 3",
   "language": "python",
   "name": "python3"
  },
  "language_info": {
   "codemirror_mode": {
    "name": "ipython",
    "version": 3
   },
   "file_extension": ".py",
   "mimetype": "text/x-python",
   "name": "python",
   "nbconvert_exporter": "python",
   "pygments_lexer": "ipython3",
   "version": "3.7.6"
  }
 },
 "nbformat": 4,
 "nbformat_minor": 2
}
