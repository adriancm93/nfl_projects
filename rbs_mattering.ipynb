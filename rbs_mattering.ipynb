{
 "cells": [
  {
   "cell_type": "code",
   "execution_count": 1,
   "metadata": {},
   "outputs": [],
   "source": [
    "import pandas as pd\n",
    "import numpy as np\n",
    "import statsmodels.formula.api as sm\n",
    "import seaborn as sns"
   ]
  },
  {
   "cell_type": "code",
   "execution_count": 2,
   "metadata": {},
   "outputs": [],
   "source": [
    "linemen = pd.read_csv('sis_ol_run.csv')\n",
    "rbs = pd.read_csv('sis_rb_rushing.csv')\n",
    "qbs = pd.read_csv('sis_qb_rushing.csv')"
   ]
  },
  {
   "cell_type": "code",
   "execution_count": 3,
   "metadata": {},
   "outputs": [],
   "source": [
    "pbp = pd.concat([pd.read_csv(f'pbp_data/play_by_play_{season}.csv.gz', compression='gzip', low_memory=False) for season in range(2016,2021)])"
   ]
  },
  {
   "cell_type": "code",
   "execution_count": 4,
   "metadata": {},
   "outputs": [
    {
     "data": {
      "text/html": [
       "<div>\n",
       "<style scoped>\n",
       "    .dataframe tbody tr th:only-of-type {\n",
       "        vertical-align: middle;\n",
       "    }\n",
       "\n",
       "    .dataframe tbody tr th {\n",
       "        vertical-align: top;\n",
       "    }\n",
       "\n",
       "    .dataframe thead th {\n",
       "        text-align: right;\n",
       "    }\n",
       "</style>\n",
       "<table border=\"1\" class=\"dataframe\">\n",
       "  <thead>\n",
       "    <tr style=\"text-align: right;\">\n",
       "      <th></th>\n",
       "      <th>ol_points</th>\n",
       "      <th>rb_points</th>\n",
       "      <th>rb_runs</th>\n",
       "      <th>rb_eff</th>\n",
       "      <th>ol_eff</th>\n",
       "      <th>rush_epa</th>\n",
       "    </tr>\n",
       "  </thead>\n",
       "  <tbody>\n",
       "    <tr>\n",
       "      <th>ol_points</th>\n",
       "      <td>1.000000</td>\n",
       "      <td>0.314513</td>\n",
       "      <td>0.479056</td>\n",
       "      <td>0.290301</td>\n",
       "      <td>0.888659</td>\n",
       "      <td>0.705231</td>\n",
       "    </tr>\n",
       "    <tr>\n",
       "      <th>rb_points</th>\n",
       "      <td>0.314513</td>\n",
       "      <td>1.000000</td>\n",
       "      <td>0.393724</td>\n",
       "      <td>0.989607</td>\n",
       "      <td>0.165271</td>\n",
       "      <td>0.678976</td>\n",
       "    </tr>\n",
       "    <tr>\n",
       "      <th>rb_runs</th>\n",
       "      <td>0.479056</td>\n",
       "      <td>0.393724</td>\n",
       "      <td>1.000000</td>\n",
       "      <td>0.310967</td>\n",
       "      <td>0.033902</td>\n",
       "      <td>0.311334</td>\n",
       "    </tr>\n",
       "    <tr>\n",
       "      <th>rb_eff</th>\n",
       "      <td>0.290301</td>\n",
       "      <td>0.989607</td>\n",
       "      <td>0.310967</td>\n",
       "      <td>1.000000</td>\n",
       "      <td>0.182714</td>\n",
       "      <td>0.677293</td>\n",
       "    </tr>\n",
       "    <tr>\n",
       "      <th>ol_eff</th>\n",
       "      <td>0.888659</td>\n",
       "      <td>0.165271</td>\n",
       "      <td>0.033902</td>\n",
       "      <td>0.182714</td>\n",
       "      <td>1.000000</td>\n",
       "      <td>0.654277</td>\n",
       "    </tr>\n",
       "    <tr>\n",
       "      <th>rush_epa</th>\n",
       "      <td>0.705231</td>\n",
       "      <td>0.678976</td>\n",
       "      <td>0.311334</td>\n",
       "      <td>0.677293</td>\n",
       "      <td>0.654277</td>\n",
       "      <td>1.000000</td>\n",
       "    </tr>\n",
       "  </tbody>\n",
       "</table>\n",
       "</div>"
      ],
      "text/plain": [
       "           ol_points  rb_points   rb_runs    rb_eff    ol_eff  rush_epa\n",
       "ol_points   1.000000   0.314513  0.479056  0.290301  0.888659  0.705231\n",
       "rb_points   0.314513   1.000000  0.393724  0.989607  0.165271  0.678976\n",
       "rb_runs     0.479056   0.393724  1.000000  0.310967  0.033902  0.311334\n",
       "rb_eff      0.290301   0.989607  0.310967  1.000000  0.182714  0.677293\n",
       "ol_eff      0.888659   0.165271  0.033902  0.182714  1.000000  0.654277\n",
       "rush_epa    0.705231   0.678976  0.311334  0.677293  0.654277  1.000000"
      ]
     },
     "execution_count": 4,
     "metadata": {},
     "output_type": "execute_result"
    }
   ],
   "source": [
    "rbs['attempts'] = rbs['insideAtt'] + rbs['offTackleAtt'] + rbs['outsideAtt']\n",
    "qbs['attempts'] = qbs['insideAtt'] + rbs['offTackleAtt'] + rbs['outsideAtt']\n",
    "teams = linemen.groupby(['season', 'team']).agg({'pointsEarned':'sum'}).rename(columns={'pointsEarned':'ol_points'})\n",
    "teams['rb_points'] = rbs.groupby(['season', 'team']).agg({'rushPointsEarned':'sum'})\n",
    "teams['rb_runs'] = rbs.groupby(['season', 'team']).agg({'attempts':'sum'})\n",
    "teams['rb_eff'] = teams['rb_points']/teams['rb_runs']\n",
    "teams['ol_eff'] = teams['ol_points']/teams['rb_runs']\n",
    "\n",
    "team_names = {\n",
    "    'Chiefs':'KC',\n",
    "    'Packers':'GB',\n",
    "    'Texans':'HOU',\n",
    "    'Buccaneers':'TB',\n",
    "    'Seahawks':'SEA',\n",
    "    'Bills':'BUF',\n",
    "    'Titans':'TEN',\n",
    "    'Colts':'IND',\n",
    "    'Raiders':'LV',\n",
    "    'Panthers':'CAR',\n",
    "    'Falcons':'ATL',\n",
    "    'Steelers':'PIT',\n",
    "    'Chargers':'LAC',\n",
    "    'Lions':'DET',\n",
    "    'Vikings':'MIN',\n",
    "    'Saints':'NO',\n",
    "    'Browns':'CLE',\n",
    "    'Cardinals':'ARI',\n",
    "    'Rams':'LA',\n",
    "    'Bengals':'CIN',\n",
    "    'Dolphins':'MIA',\n",
    "    'Jaguars':'JAX',\n",
    "    'Giants':'NYG',\n",
    "    'Broncos':'DEN',\n",
    "    'Cowboys':'DAL',\n",
    "    '49ers':'SF',\n",
    "    'Football Team':'WAS',\n",
    "    'Redskins':'WAS', # for pre-2020 data :(\n",
    "    'Patriots':'NE',\n",
    "    'Ravens':'BAL',\n",
    "    'Bears':'CHI',\n",
    "    'Jets':'NYJ',\n",
    "    'Eagles':'PHI'\n",
    "}\n",
    "\n",
    "teams.reset_index(inplace=True)\n",
    "teams = teams.replace(team_names).rename(columns={'team':'posteam'}).set_index(['season', 'posteam'])\n",
    "\n",
    "teams['rush_epa'] = pbp.loc[(pbp.play_type=='run') & (pbp.qb_scramble==0)].groupby(['season', 'posteam']).agg({'epa':'mean'})\n",
    "teams = teams.reset_index()\n",
    "teams.corr().iloc[1:,1:]"
   ]
  },
  {
   "cell_type": "code",
   "execution_count": 5,
   "metadata": {},
   "outputs": [
    {
     "data": {
      "text/html": [
       "<table class=\"simpletable\">\n",
       "<caption>OLS Regression Results</caption>\n",
       "<tr>\n",
       "  <th>Dep. Variable:</th>        <td>rush_epa</td>     <th>  R-squared:         </th> <td>   0.750</td>\n",
       "</tr>\n",
       "<tr>\n",
       "  <th>Model:</th>                   <td>OLS</td>       <th>  Adj. R-squared:    </th> <td>   0.747</td>\n",
       "</tr>\n",
       "<tr>\n",
       "  <th>Method:</th>             <td>Least Squares</td>  <th>  F-statistic:       </th> <td>   235.4</td>\n",
       "</tr>\n",
       "<tr>\n",
       "  <th>Date:</th>             <td>Tue, 02 Feb 2021</td> <th>  Prob (F-statistic):</th> <td>5.64e-48</td>\n",
       "</tr>\n",
       "<tr>\n",
       "  <th>Time:</th>                 <td>21:28:27</td>     <th>  Log-Likelihood:    </th> <td>  303.37</td>\n",
       "</tr>\n",
       "<tr>\n",
       "  <th>No. Observations:</th>      <td>   160</td>      <th>  AIC:               </th> <td>  -600.7</td>\n",
       "</tr>\n",
       "<tr>\n",
       "  <th>Df Residuals:</th>          <td>   157</td>      <th>  BIC:               </th> <td>  -591.5</td>\n",
       "</tr>\n",
       "<tr>\n",
       "  <th>Df Model:</th>              <td>     2</td>      <th>                     </th>     <td> </td>   \n",
       "</tr>\n",
       "<tr>\n",
       "  <th>Covariance Type:</th>      <td>nonrobust</td>    <th>                     </th>     <td> </td>   \n",
       "</tr>\n",
       "</table>\n",
       "<table class=\"simpletable\">\n",
       "<tr>\n",
       "      <td></td>         <th>coef</th>     <th>std err</th>      <th>t</th>      <th>P>|t|</th>  <th>[0.025</th>    <th>0.975]</th>  \n",
       "</tr>\n",
       "<tr>\n",
       "  <th>Intercept</th> <td>   -0.2820</td> <td>    0.013</td> <td>  -21.241</td> <td> 0.000</td> <td>   -0.308</td> <td>   -0.256</td>\n",
       "</tr>\n",
       "<tr>\n",
       "  <th>rb_eff</th>    <td>    0.9100</td> <td>    0.064</td> <td>   14.214</td> <td> 0.000</td> <td>    0.784</td> <td>    1.036</td>\n",
       "</tr>\n",
       "<tr>\n",
       "  <th>ol_eff</th>    <td>    0.9903</td> <td>    0.073</td> <td>   13.520</td> <td> 0.000</td> <td>    0.846</td> <td>    1.135</td>\n",
       "</tr>\n",
       "</table>\n",
       "<table class=\"simpletable\">\n",
       "<tr>\n",
       "  <th>Omnibus:</th>       <td> 0.609</td> <th>  Durbin-Watson:     </th> <td>   1.794</td>\n",
       "</tr>\n",
       "<tr>\n",
       "  <th>Prob(Omnibus):</th> <td> 0.738</td> <th>  Jarque-Bera (JB):  </th> <td>   0.419</td>\n",
       "</tr>\n",
       "<tr>\n",
       "  <th>Skew:</th>          <td> 0.121</td> <th>  Prob(JB):          </th> <td>   0.811</td>\n",
       "</tr>\n",
       "<tr>\n",
       "  <th>Kurtosis:</th>      <td> 3.062</td> <th>  Cond. No.          </th> <td>    27.0</td>\n",
       "</tr>\n",
       "</table><br/><br/>Warnings:<br/>[1] Standard Errors assume that the covariance matrix of the errors is correctly specified."
      ],
      "text/plain": [
       "<class 'statsmodels.iolib.summary.Summary'>\n",
       "\"\"\"\n",
       "                            OLS Regression Results                            \n",
       "==============================================================================\n",
       "Dep. Variable:               rush_epa   R-squared:                       0.750\n",
       "Model:                            OLS   Adj. R-squared:                  0.747\n",
       "Method:                 Least Squares   F-statistic:                     235.4\n",
       "Date:                Tue, 02 Feb 2021   Prob (F-statistic):           5.64e-48\n",
       "Time:                        21:28:27   Log-Likelihood:                 303.37\n",
       "No. Observations:                 160   AIC:                            -600.7\n",
       "Df Residuals:                     157   BIC:                            -591.5\n",
       "Df Model:                           2                                         \n",
       "Covariance Type:            nonrobust                                         \n",
       "==============================================================================\n",
       "                 coef    std err          t      P>|t|      [0.025      0.975]\n",
       "------------------------------------------------------------------------------\n",
       "Intercept     -0.2820      0.013    -21.241      0.000      -0.308      -0.256\n",
       "rb_eff         0.9100      0.064     14.214      0.000       0.784       1.036\n",
       "ol_eff         0.9903      0.073     13.520      0.000       0.846       1.135\n",
       "==============================================================================\n",
       "Omnibus:                        0.609   Durbin-Watson:                   1.794\n",
       "Prob(Omnibus):                  0.738   Jarque-Bera (JB):                0.419\n",
       "Skew:                           0.121   Prob(JB):                        0.811\n",
       "Kurtosis:                       3.062   Cond. No.                         27.0\n",
       "==============================================================================\n",
       "\n",
       "Warnings:\n",
       "[1] Standard Errors assume that the covariance matrix of the errors is correctly specified.\n",
       "\"\"\""
      ]
     },
     "execution_count": 5,
     "metadata": {},
     "output_type": "execute_result"
    }
   ],
   "source": [
    "eff_regression = sm.ols(formula=\"rush_epa ~ rb_eff + ol_eff\", data=teams).fit()\n",
    "eff_regression.summary()"
   ]
  },
  {
   "cell_type": "code",
   "execution_count": 6,
   "metadata": {},
   "outputs": [
    {
     "data": {
      "text/plain": [
       "Intercept   -0.282004\n",
       "rb_eff       0.909964\n",
       "ol_eff       0.990309\n",
       "dtype: float64"
      ]
     },
     "execution_count": 6,
     "metadata": {},
     "output_type": "execute_result"
    }
   ],
   "source": [
    "eff_regression.params"
   ]
  },
  {
   "cell_type": "code",
   "execution_count": 7,
   "metadata": {},
   "outputs": [
    {
     "data": {
      "text/plain": [
       "<matplotlib.axes._subplots.AxesSubplot at 0x23bb8382d88>"
      ]
     },
     "execution_count": 7,
     "metadata": {},
     "output_type": "execute_result"
    },
    {
     "data": {
      "image/png": "[encoded data removed]",
      "text/plain": [
       "<Figure size 432x288 with 1 Axes>"
      ]
     },
     "metadata": {
      "needs_background": "light"
     },
     "output_type": "display_data"
    }
   ],
   "source": [
    "sns.scatterplot(x='ol_eff', y='rb_eff', hue='rush_epa', data=teams)"
   ]
  }
 ],
 "metadata": {
  "kernelspec": {
   "display_name": "Python 3",
   "language": "python",
   "name": "python3"
  },
  "language_info": {
   "codemirror_mode": {
    "name": "ipython",
    "version": 3
   },
   "file_extension": ".py",
   "mimetype": "text/x-python",
   "name": "python",
   "nbconvert_exporter": "python",
   "pygments_lexer": "ipython3",
   "version": "3.7.6"
  }
 },
 "nbformat": 4,
 "nbformat_minor": 4
}
