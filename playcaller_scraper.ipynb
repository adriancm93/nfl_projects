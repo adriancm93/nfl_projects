{
 "cells": [
  {
   "cell_type": "code",
   "execution_count": 1,
   "metadata": {},
   "outputs": [],
   "source": [
    "import requests\n",
    "from bs4 import BeautifulSoup\n",
    "import time \n",
    "import pandas as pd"
   ]
  },
  {
   "cell_type": "code",
   "execution_count": 2,
   "metadata": {},
   "outputs": [],
   "source": [
    "teams = ['CAR', 'DEN', 'BUF', 'CIN', 'ARI', 'ATL', 'SF', 'TEN', 'DAL', 'JAX',\n",
    "        'HOU', 'MIN', 'DET', 'LA', 'MIA', 'WAS', 'NE', 'LAC', 'NYG', 'TB', 'CLE',\n",
    "        'IND', 'PHI', 'NO', 'SEA', 'KC', 'BAL', 'CHI', 'NYJ', 'PIT', 'GB', 'LV']\n",
    "pfr_teams = ['CAR', 'DEN', 'BUF', 'CIN', 'CRD', 'ATL', 'SFO', 'OTI', 'DAL',\n",
    "       'JAX', 'HTX', 'MIN', 'DET', 'RAM', 'MIA', 'WAS', 'NWE', 'SDG',\n",
    "       'NYG', 'TAM', 'CLE', 'CLT', 'PHI', 'NOR', 'SEA', 'KAN', 'RAV',\n",
    "       'CHI', 'NYJ', 'PIT', 'GNB', 'RAI']"
   ]
  },
  {
   "cell_type": "code",
   "execution_count": 3,
   "metadata": {},
   "outputs": [],
   "source": [
    "start_year = 2016\n",
    "end_year = 2020\n",
    "coaches = {}\n",
    "for year in range(start_year, end_year+1):\n",
    "    for i in range(32):\n",
    "        page = requests.get(f'https://www.pro-football-reference.com/teams/{pfr_teams[i].lower()}/{year}.htm')\n",
    "        soup = BeautifulSoup(page.content, 'html.parser')\n",
    "        coaches[(year, teams[i])] = {}\n",
    "        for p in soup.find_all('p'):\n",
    "            if 'Offensive Coordinator:' in str(p):\n",
    "                if len(p.find_all('a'))>0:\n",
    "                    coaches[(year, teams[i])]['OC'] = p.find('a').text\n",
    "                else:\n",
    "                    coaches[(year, teams[i])]['OC'] = p.text\n",
    "            elif 'Coach:' in str(p):\n",
    "                if len(p.find_all('a'))>0:\n",
    "                    coaches[(year, teams[i])]['HC'] = p.find('a').text\n",
    "                else:\n",
    "                    coaches[(year, teams[i])]['HC'] = p.text\n",
    "        time.sleep(15)"
   ]
  },
  {
   "cell_type": "code",
   "execution_count": 4,
   "metadata": {},
   "outputs": [],
   "source": [
    "coaches_df = pd.DataFrame(coaches).transpose()"
   ]
  },
  {
   "cell_type": "code",
   "execution_count": 5,
   "metadata": {},
   "outputs": [],
   "source": [
    "coaches_df.to_csv('coaches.csv')"
   ]
  }
 ],
 "metadata": {
  "kernelspec": {
   "display_name": "Python 3",
   "language": "python",
   "name": "python3"
  },
  "language_info": {
   "codemirror_mode": {
    "name": "ipython",
    "version": 3
   },
   "file_extension": ".py",
   "mimetype": "text/x-python",
   "name": "python",
   "nbconvert_exporter": "python",
   "pygments_lexer": "ipython3",
   "version": "3.7.6"
  }
 },
 "nbformat": 4,
 "nbformat_minor": 4
}
