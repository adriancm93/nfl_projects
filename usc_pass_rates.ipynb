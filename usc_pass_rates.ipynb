{
 "cells": [
  {
   "cell_type": "code",
   "execution_count": 1,
   "metadata": {},
   "outputs": [],
   "source": [
    "import numpy as np\n",
    "import pandas as pd"
   ]
  },
  {
   "cell_type": "code",
   "execution_count": 2,
   "metadata": {},
   "outputs": [],
   "source": [
    "# create a list\n",
    "pbps = []\n",
    "# for each season between 2003 and 2010\n",
    "for season in range(2003,2010):\n",
    "    # read the play by play file for that corresponding season into a dataframe, add a 'season' column, and add that dataframe to our list\n",
    "    pbps.append(pd.read_parquet(f'cfbfastr_pbp/play_by_play_{season}.parquet').assign(season=season))\n",
    "# combine all those dataframes into one\n",
    "pbp = pd.concat(pbps)"
   ]
  },
  {
   "cell_type": "code",
   "execution_count": 3,
   "metadata": {},
   "outputs": [
    {
     "data": {
      "text/plain": [
       "Penalty                       445\n",
       "Extra Point Good              400\n",
       "Punt                          255\n",
       "Timeout                       248\n",
       "Kickoff                       237\n",
       "Field Goal Good                94\n",
       "Punt Return                    86\n",
       "Pass Interception              67\n",
       "Kickoff Return (Offense)       62\n",
       "Fumble Recovery (Opponent)     23\n",
       "Field Goal Missed              14\n",
       "Fumble Recovery (Own)          14\n",
       "Unknown                        13\n",
       "Extra Point Missed             13\n",
       "Blocked Punt                    3\n",
       "Safety                          3\n",
       "Fumble Return Touchdown         1\n",
       "Blocked PAT                     1\n",
       "Two Point Pass                  1\n",
       "Kickoff Return Touchdown        1\n",
       "Kickoff Return (Defense)        1\n",
       "Blocked Field Goal              1\n",
       "Punt Return Touchdown           1\n",
       "2pt Conversion                  1\n",
       "Name: play_type_original, dtype: int64"
      ]
     },
     "execution_count": 3,
     "metadata": {},
     "output_type": "execute_result"
    }
   ],
   "source": [
    "# want to restrict to runs and passes but first let's see what play types will be eliminated by filtering in the way I plan to\n",
    "eliminated_plays = pbp.loc[(pbp['start_posteam_name']=='USC')&(pbp['pass'].isna())&(pbp['rush'].isna())]\n",
    "eliminated_plays['play_type_original'].value_counts()"
   ]
  },
  {
   "cell_type": "code",
   "execution_count": 4,
   "metadata": {},
   "outputs": [
    {
     "data": {
      "text/plain": [
       "0.24491054904380014"
      ]
     },
     "execution_count": 4,
     "metadata": {},
     "output_type": "execute_result"
    }
   ],
   "source": [
    "# as you can see it's not perfect but we're eliminating ~24.5% of plays overall and most of them are ST \n",
    "eliminated_plays['play_type_original'].shape[0]/pbp.loc[(pbp['start_posteam_name']=='USC')].shape[0]"
   ]
  },
  {
   "cell_type": "code",
   "execution_count": 10,
   "metadata": {},
   "outputs": [],
   "source": [
    "# restrict to runs and passes, where USC is on offense, early downs only, WP between 0.2 and 0.8, >=120s left in half at start of play\n",
    "# adding .copy() at the end for reasons that are complicated but have to do with the fact we're going to create a new column \n",
    "usc = pbp.loc[(pbp['pass'].notna() | pbp['rush'].notna()) & (pbp['start_posteam_name']=='USC') & ((pbp['down_1']==1) | (pbp['down_2']==1)) & (pbp['wp_before'] >= 0.2) & (pbp['wp_before'] <= 0.8) & (pbp['start_half_seconds_remaining'] >= 120)].copy()\n",
    "# note: this dataset has separate 'down_1', 'down_2',... variables which are each 0 (no) or 1 (yes) instead of a single 'down' variable. not sure why"
   ]
  },
  {
   "cell_type": "code",
   "execution_count": 11,
   "metadata": {},
   "outputs": [
    {
     "data": {
      "text/html": [
       "<div>\n",
       "<style scoped>\n",
       "    .dataframe tbody tr th:only-of-type {\n",
       "        vertical-align: middle;\n",
       "    }\n",
       "\n",
       "    .dataframe tbody tr th {\n",
       "        vertical-align: top;\n",
       "    }\n",
       "\n",
       "    .dataframe thead th {\n",
       "        text-align: right;\n",
       "    }\n",
       "</style>\n",
       "<table border=\"1\" class=\"dataframe\">\n",
       "  <thead>\n",
       "    <tr style=\"text-align: right;\">\n",
       "      <th></th>\n",
       "      <th>id</th>\n",
       "    </tr>\n",
       "    <tr>\n",
       "      <th>season</th>\n",
       "      <th></th>\n",
       "    </tr>\n",
       "  </thead>\n",
       "  <tbody>\n",
       "    <tr>\n",
       "      <th>2003</th>\n",
       "      <td>194</td>\n",
       "    </tr>\n",
       "    <tr>\n",
       "      <th>2004</th>\n",
       "      <td>250</td>\n",
       "    </tr>\n",
       "    <tr>\n",
       "      <th>2005</th>\n",
       "      <td>287</td>\n",
       "    </tr>\n",
       "    <tr>\n",
       "      <th>2006</th>\n",
       "      <td>283</td>\n",
       "    </tr>\n",
       "    <tr>\n",
       "      <th>2007</th>\n",
       "      <td>287</td>\n",
       "    </tr>\n",
       "    <tr>\n",
       "      <th>2008</th>\n",
       "      <td>184</td>\n",
       "    </tr>\n",
       "    <tr>\n",
       "      <th>2009</th>\n",
       "      <td>299</td>\n",
       "    </tr>\n",
       "  </tbody>\n",
       "</table>\n",
       "</div>"
      ],
      "text/plain": [
       "         id\n",
       "season     \n",
       "2003    194\n",
       "2004    250\n",
       "2005    287\n",
       "2006    283\n",
       "2007    287\n",
       "2008    184\n",
       "2009    299"
      ]
     },
     "execution_count": 11,
     "metadata": {},
     "output_type": "execute_result"
    }
   ],
   "source": [
    "# see how many plays we have per season as a sanity check\n",
    "usc.groupby('season').agg({'id':'count'})"
   ]
  },
  {
   "cell_type": "code",
   "execution_count": 15,
   "metadata": {},
   "outputs": [
    {
     "data": {
      "text/html": [
       "<div>\n",
       "<style scoped>\n",
       "    .dataframe tbody tr th:only-of-type {\n",
       "        vertical-align: middle;\n",
       "    }\n",
       "\n",
       "    .dataframe tbody tr th {\n",
       "        vertical-align: top;\n",
       "    }\n",
       "\n",
       "    .dataframe thead th {\n",
       "        text-align: right;\n",
       "    }\n",
       "</style>\n",
       "<table border=\"1\" class=\"dataframe\">\n",
       "  <thead>\n",
       "    <tr style=\"text-align: right;\">\n",
       "      <th></th>\n",
       "      <th>pass_rate</th>\n",
       "      <th>rush_rate</th>\n",
       "      <th>sum</th>\n",
       "    </tr>\n",
       "    <tr>\n",
       "      <th>season</th>\n",
       "      <th></th>\n",
       "      <th></th>\n",
       "      <th></th>\n",
       "    </tr>\n",
       "  </thead>\n",
       "  <tbody>\n",
       "    <tr>\n",
       "      <th>2003</th>\n",
       "      <td>0.556701</td>\n",
       "      <td>0.443299</td>\n",
       "      <td>1.0</td>\n",
       "    </tr>\n",
       "    <tr>\n",
       "      <th>2004</th>\n",
       "      <td>0.476000</td>\n",
       "      <td>0.524000</td>\n",
       "      <td>1.0</td>\n",
       "    </tr>\n",
       "    <tr>\n",
       "      <th>2005</th>\n",
       "      <td>0.494774</td>\n",
       "      <td>0.505226</td>\n",
       "      <td>1.0</td>\n",
       "    </tr>\n",
       "    <tr>\n",
       "      <th>2006</th>\n",
       "      <td>0.508834</td>\n",
       "      <td>0.491166</td>\n",
       "      <td>1.0</td>\n",
       "    </tr>\n",
       "    <tr>\n",
       "      <th>2007</th>\n",
       "      <td>0.480836</td>\n",
       "      <td>0.519164</td>\n",
       "      <td>1.0</td>\n",
       "    </tr>\n",
       "    <tr>\n",
       "      <th>2008</th>\n",
       "      <td>0.510870</td>\n",
       "      <td>0.489130</td>\n",
       "      <td>1.0</td>\n",
       "    </tr>\n",
       "    <tr>\n",
       "      <th>2009</th>\n",
       "      <td>0.441472</td>\n",
       "      <td>0.558528</td>\n",
       "      <td>1.0</td>\n",
       "    </tr>\n",
       "  </tbody>\n",
       "</table>\n",
       "</div>"
      ],
      "text/plain": [
       "        pass_rate  rush_rate  sum\n",
       "season                           \n",
       "2003     0.556701   0.443299  1.0\n",
       "2004     0.476000   0.524000  1.0\n",
       "2005     0.494774   0.505226  1.0\n",
       "2006     0.508834   0.491166  1.0\n",
       "2007     0.480836   0.519164  1.0\n",
       "2008     0.510870   0.489130  1.0\n",
       "2009     0.441472   0.558528  1.0"
      ]
     },
     "execution_count": 15,
     "metadata": {},
     "output_type": "execute_result"
    }
   ],
   "source": [
    "# create a new variable which is 1 for passes, 0 for non passes (ie rushes)\n",
    "usc['pass_rate'] = np.where(usc['pass'],1,0)\n",
    "# create one for rushes too so we can make sure things add up to 1.0\n",
    "usc['rush_rate'] = np.where(usc['rush'],1,0)\n",
    "# aggregate and sum\n",
    "usc.groupby('season').agg({'pass_rate':'mean','rush_rate':'mean'}).assign(sum=lambda x:x['pass_rate']+x['rush_rate'])"
   ]
  }
 ],
 "metadata": {
  "interpreter": {
   "hash": "b3ba2566441a7c06988d0923437866b63cedc61552a5af99d1f4fb67d367b25f"
  },
  "kernelspec": {
   "display_name": "Python 3.7.6 ('base')",
   "language": "python",
   "name": "python3"
  },
  "language_info": {
   "codemirror_mode": {
    "name": "ipython",
    "version": 3
   },
   "file_extension": ".py",
   "mimetype": "text/x-python",
   "name": "python",
   "nbconvert_exporter": "python",
   "pygments_lexer": "ipython3",
   "version": "3.7.6"
  },
  "orig_nbformat": 4
 },
 "nbformat": 4,
 "nbformat_minor": 2
}
